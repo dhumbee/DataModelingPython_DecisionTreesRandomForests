{
 "cells": [
  {
   "cell_type": "markdown",
   "metadata": {},
   "source": [
    "# Lab13: Seed Dataset – Decision Trees and Random Forests"
   ]
  },
  {
   "cell_type": "markdown",
   "metadata": {},
   "source": [
    "### Author: Dianna Hummel"
   ]
  },
  {
   "cell_type": "code",
   "execution_count": 1,
   "metadata": {
    "collapsed": true
   },
   "outputs": [],
   "source": [
    "# Import the needed libraries\n",
    "import numpy as np\n",
    "import pandas as pd\n",
    "from pandas import Series, DataFrame\n",
    "from sklearn.cluster import KMeans\n",
    "from sklearn.preprocessing import StandardScaler\n",
    "from sklearn.tree import DecisionTreeClassifier\n",
    "from sklearn.ensemble import RandomForestClassifier\n",
    "from sklearn.tree import export_graphviz\n",
    "from sklearn.model_selection import GridSearchCV\n",
    "from sklearn.model_selection import train_test_split\n",
    "from sklearn.metrics import classification_report\n",
    "from sklearn.metrics import accuracy_score\n",
    "from sklearn.metrics import confusion_matrix\n",
    "import matplotlib.pyplot as plt\n",
    "import seaborn as sns; sns.set()\n",
    "%matplotlib inline"
   ]
  },
  {
   "cell_type": "markdown",
   "metadata": {},
   "source": [
    "##### Step A"
   ]
  },
  {
   "cell_type": "code",
   "execution_count": 2,
   "metadata": {},
   "outputs": [
    {
     "data": {
      "text/html": [
       "<div>\n",
       "<style>\n",
       "    .dataframe thead tr:only-child th {\n",
       "        text-align: right;\n",
       "    }\n",
       "\n",
       "    .dataframe thead th {\n",
       "        text-align: left;\n",
       "    }\n",
       "\n",
       "    .dataframe tbody tr th {\n",
       "        vertical-align: top;\n",
       "    }\n",
       "</style>\n",
       "<table border=\"1\" class=\"dataframe\">\n",
       "  <thead>\n",
       "    <tr style=\"text-align: right;\">\n",
       "      <th></th>\n",
       "      <th>area</th>\n",
       "      <th>perimeter</th>\n",
       "      <th>compact</th>\n",
       "      <th>length</th>\n",
       "      <th>width</th>\n",
       "      <th>asym</th>\n",
       "      <th>groove</th>\n",
       "      <th>species</th>\n",
       "    </tr>\n",
       "  </thead>\n",
       "  <tbody>\n",
       "    <tr>\n",
       "      <th>0</th>\n",
       "      <td>15.26</td>\n",
       "      <td>14.84</td>\n",
       "      <td>0.8710</td>\n",
       "      <td>5.763</td>\n",
       "      <td>3.312</td>\n",
       "      <td>2.221</td>\n",
       "      <td>5.220</td>\n",
       "      <td>1</td>\n",
       "    </tr>\n",
       "    <tr>\n",
       "      <th>1</th>\n",
       "      <td>14.88</td>\n",
       "      <td>14.57</td>\n",
       "      <td>0.8811</td>\n",
       "      <td>5.554</td>\n",
       "      <td>3.333</td>\n",
       "      <td>1.018</td>\n",
       "      <td>4.956</td>\n",
       "      <td>1</td>\n",
       "    </tr>\n",
       "    <tr>\n",
       "      <th>2</th>\n",
       "      <td>14.29</td>\n",
       "      <td>14.09</td>\n",
       "      <td>0.9050</td>\n",
       "      <td>5.291</td>\n",
       "      <td>3.337</td>\n",
       "      <td>2.699</td>\n",
       "      <td>4.825</td>\n",
       "      <td>1</td>\n",
       "    </tr>\n",
       "    <tr>\n",
       "      <th>3</th>\n",
       "      <td>13.84</td>\n",
       "      <td>13.94</td>\n",
       "      <td>0.8955</td>\n",
       "      <td>5.324</td>\n",
       "      <td>3.379</td>\n",
       "      <td>2.259</td>\n",
       "      <td>4.805</td>\n",
       "      <td>1</td>\n",
       "    </tr>\n",
       "    <tr>\n",
       "      <th>4</th>\n",
       "      <td>16.14</td>\n",
       "      <td>14.99</td>\n",
       "      <td>0.9034</td>\n",
       "      <td>5.658</td>\n",
       "      <td>3.562</td>\n",
       "      <td>1.355</td>\n",
       "      <td>5.175</td>\n",
       "      <td>1</td>\n",
       "    </tr>\n",
       "  </tbody>\n",
       "</table>\n",
       "</div>"
      ],
      "text/plain": [
       "    area  perimeter  compact  length  width   asym  groove  species\n",
       "0  15.26      14.84   0.8710   5.763  3.312  2.221   5.220        1\n",
       "1  14.88      14.57   0.8811   5.554  3.333  1.018   4.956        1\n",
       "2  14.29      14.09   0.9050   5.291  3.337  2.699   4.825        1\n",
       "3  13.84      13.94   0.8955   5.324  3.379  2.259   4.805        1\n",
       "4  16.14      14.99   0.9034   5.658  3.562  1.355   5.175        1"
      ]
     },
     "execution_count": 2,
     "metadata": {},
     "output_type": "execute_result"
    }
   ],
   "source": [
    "cols = ['area','perimeter','compact','length', 'width','asym','groove','species']\n",
    "seed_data = pd.read_csv('seeds.csv', names = cols)\n",
    "seed_data.head(5)"
   ]
  },
  {
   "cell_type": "code",
   "execution_count": 3,
   "metadata": {},
   "outputs": [
    {
     "data": {
      "text/plain": [
       "(210, 8)"
      ]
     },
     "execution_count": 3,
     "metadata": {},
     "output_type": "execute_result"
    }
   ],
   "source": [
    "seed_data.shape"
   ]
  },
  {
   "cell_type": "code",
   "execution_count": 4,
   "metadata": {},
   "outputs": [
    {
     "data": {
      "text/plain": [
       "area         float64\n",
       "perimeter    float64\n",
       "compact      float64\n",
       "length       float64\n",
       "width        float64\n",
       "asym         float64\n",
       "groove       float64\n",
       "species        int64\n",
       "dtype: object"
      ]
     },
     "execution_count": 4,
     "metadata": {},
     "output_type": "execute_result"
    }
   ],
   "source": [
    "seed_data.dtypes"
   ]
  },
  {
   "cell_type": "code",
   "execution_count": 5,
   "metadata": {},
   "outputs": [
    {
     "data": {
      "text/html": [
       "<div>\n",
       "<style>\n",
       "    .dataframe thead tr:only-child th {\n",
       "        text-align: right;\n",
       "    }\n",
       "\n",
       "    .dataframe thead th {\n",
       "        text-align: left;\n",
       "    }\n",
       "\n",
       "    .dataframe tbody tr th {\n",
       "        vertical-align: top;\n",
       "    }\n",
       "</style>\n",
       "<table border=\"1\" class=\"dataframe\">\n",
       "  <thead>\n",
       "    <tr style=\"text-align: right;\">\n",
       "      <th></th>\n",
       "      <th>species</th>\n",
       "      <th>1</th>\n",
       "      <th>2</th>\n",
       "      <th>3</th>\n",
       "    </tr>\n",
       "  </thead>\n",
       "  <tbody>\n",
       "    <tr>\n",
       "      <th rowspan=\"8\" valign=\"top\">area</th>\n",
       "      <th>count</th>\n",
       "      <td>70.000000</td>\n",
       "      <td>70.000000</td>\n",
       "      <td>70.000000</td>\n",
       "    </tr>\n",
       "    <tr>\n",
       "      <th>mean</th>\n",
       "      <td>14.334429</td>\n",
       "      <td>18.334286</td>\n",
       "      <td>11.873857</td>\n",
       "    </tr>\n",
       "    <tr>\n",
       "      <th>std</th>\n",
       "      <td>1.215704</td>\n",
       "      <td>1.439496</td>\n",
       "      <td>0.723004</td>\n",
       "    </tr>\n",
       "    <tr>\n",
       "      <th>min</th>\n",
       "      <td>11.230000</td>\n",
       "      <td>15.380000</td>\n",
       "      <td>10.590000</td>\n",
       "    </tr>\n",
       "    <tr>\n",
       "      <th>25%</th>\n",
       "      <td>13.750000</td>\n",
       "      <td>17.330000</td>\n",
       "      <td>11.262500</td>\n",
       "    </tr>\n",
       "    <tr>\n",
       "      <th>50%</th>\n",
       "      <td>14.355000</td>\n",
       "      <td>18.720000</td>\n",
       "      <td>11.835000</td>\n",
       "    </tr>\n",
       "    <tr>\n",
       "      <th>75%</th>\n",
       "      <td>15.045000</td>\n",
       "      <td>19.137500</td>\n",
       "      <td>12.425000</td>\n",
       "    </tr>\n",
       "    <tr>\n",
       "      <th>max</th>\n",
       "      <td>17.080000</td>\n",
       "      <td>21.180000</td>\n",
       "      <td>13.370000</td>\n",
       "    </tr>\n",
       "    <tr>\n",
       "      <th rowspan=\"8\" valign=\"top\">asym</th>\n",
       "      <th>count</th>\n",
       "      <td>70.000000</td>\n",
       "      <td>70.000000</td>\n",
       "      <td>70.000000</td>\n",
       "    </tr>\n",
       "    <tr>\n",
       "      <th>mean</th>\n",
       "      <td>2.667403</td>\n",
       "      <td>3.644800</td>\n",
       "      <td>4.788400</td>\n",
       "    </tr>\n",
       "    <tr>\n",
       "      <th>std</th>\n",
       "      <td>1.173901</td>\n",
       "      <td>1.181868</td>\n",
       "      <td>1.336465</td>\n",
       "    </tr>\n",
       "    <tr>\n",
       "      <th>min</th>\n",
       "      <td>0.765100</td>\n",
       "      <td>1.472000</td>\n",
       "      <td>1.661000</td>\n",
       "    </tr>\n",
       "    <tr>\n",
       "      <th>25%</th>\n",
       "      <td>1.826500</td>\n",
       "      <td>2.845500</td>\n",
       "      <td>4.048750</td>\n",
       "    </tr>\n",
       "    <tr>\n",
       "      <th>50%</th>\n",
       "      <td>2.545500</td>\n",
       "      <td>3.609500</td>\n",
       "      <td>4.839000</td>\n",
       "    </tr>\n",
       "    <tr>\n",
       "      <th>75%</th>\n",
       "      <td>3.301000</td>\n",
       "      <td>4.436000</td>\n",
       "      <td>5.467250</td>\n",
       "    </tr>\n",
       "    <tr>\n",
       "      <th>max</th>\n",
       "      <td>6.685000</td>\n",
       "      <td>6.682000</td>\n",
       "      <td>8.456000</td>\n",
       "    </tr>\n",
       "    <tr>\n",
       "      <th rowspan=\"8\" valign=\"top\">compact</th>\n",
       "      <th>count</th>\n",
       "      <td>70.000000</td>\n",
       "      <td>70.000000</td>\n",
       "      <td>70.000000</td>\n",
       "    </tr>\n",
       "    <tr>\n",
       "      <th>mean</th>\n",
       "      <td>0.880070</td>\n",
       "      <td>0.883517</td>\n",
       "      <td>0.849409</td>\n",
       "    </tr>\n",
       "    <tr>\n",
       "      <th>std</th>\n",
       "      <td>0.016191</td>\n",
       "      <td>0.015500</td>\n",
       "      <td>0.021760</td>\n",
       "    </tr>\n",
       "    <tr>\n",
       "      <th>min</th>\n",
       "      <td>0.839200</td>\n",
       "      <td>0.845200</td>\n",
       "      <td>0.808100</td>\n",
       "    </tr>\n",
       "    <tr>\n",
       "      <th>25%</th>\n",
       "      <td>0.868850</td>\n",
       "      <td>0.872525</td>\n",
       "      <td>0.834000</td>\n",
       "    </tr>\n",
       "    <tr>\n",
       "      <th>50%</th>\n",
       "      <td>0.880500</td>\n",
       "      <td>0.882600</td>\n",
       "      <td>0.849350</td>\n",
       "    </tr>\n",
       "    <tr>\n",
       "      <th>75%</th>\n",
       "      <td>0.890400</td>\n",
       "      <td>0.898225</td>\n",
       "      <td>0.861825</td>\n",
       "    </tr>\n",
       "    <tr>\n",
       "      <th>max</th>\n",
       "      <td>0.918300</td>\n",
       "      <td>0.910800</td>\n",
       "      <td>0.897700</td>\n",
       "    </tr>\n",
       "    <tr>\n",
       "      <th rowspan=\"8\" valign=\"top\">groove</th>\n",
       "      <th>count</th>\n",
       "      <td>70.000000</td>\n",
       "      <td>70.000000</td>\n",
       "      <td>70.000000</td>\n",
       "    </tr>\n",
       "    <tr>\n",
       "      <th>mean</th>\n",
       "      <td>5.087214</td>\n",
       "      <td>6.020600</td>\n",
       "      <td>5.116400</td>\n",
       "    </tr>\n",
       "    <tr>\n",
       "      <th>std</th>\n",
       "      <td>0.263699</td>\n",
       "      <td>0.253934</td>\n",
       "      <td>0.162068</td>\n",
       "    </tr>\n",
       "    <tr>\n",
       "      <th>min</th>\n",
       "      <td>4.519000</td>\n",
       "      <td>5.144000</td>\n",
       "      <td>4.745000</td>\n",
       "    </tr>\n",
       "    <tr>\n",
       "      <th>25%</th>\n",
       "      <td>4.924500</td>\n",
       "      <td>5.877500</td>\n",
       "      <td>5.002000</td>\n",
       "    </tr>\n",
       "    <tr>\n",
       "      <th>50%</th>\n",
       "      <td>5.094000</td>\n",
       "      <td>5.981500</td>\n",
       "      <td>5.091500</td>\n",
       "    </tr>\n",
       "    <tr>\n",
       "      <th>75%</th>\n",
       "      <td>5.223500</td>\n",
       "      <td>6.187750</td>\n",
       "      <td>5.228500</td>\n",
       "    </tr>\n",
       "    <tr>\n",
       "      <th>max</th>\n",
       "      <td>5.877000</td>\n",
       "      <td>6.550000</td>\n",
       "      <td>5.491000</td>\n",
       "    </tr>\n",
       "    <tr>\n",
       "      <th rowspan=\"8\" valign=\"top\">length</th>\n",
       "      <th>count</th>\n",
       "      <td>70.000000</td>\n",
       "      <td>70.000000</td>\n",
       "      <td>70.000000</td>\n",
       "    </tr>\n",
       "    <tr>\n",
       "      <th>mean</th>\n",
       "      <td>5.508057</td>\n",
       "      <td>6.148029</td>\n",
       "      <td>5.229514</td>\n",
       "    </tr>\n",
       "    <tr>\n",
       "      <th>std</th>\n",
       "      <td>0.231508</td>\n",
       "      <td>0.268191</td>\n",
       "      <td>0.138015</td>\n",
       "    </tr>\n",
       "    <tr>\n",
       "      <th>min</th>\n",
       "      <td>4.902000</td>\n",
       "      <td>5.363000</td>\n",
       "      <td>4.899000</td>\n",
       "    </tr>\n",
       "    <tr>\n",
       "      <th>25%</th>\n",
       "      <td>5.384500</td>\n",
       "      <td>5.979250</td>\n",
       "      <td>5.136250</td>\n",
       "    </tr>\n",
       "    <tr>\n",
       "      <th>50%</th>\n",
       "      <td>5.534000</td>\n",
       "      <td>6.148500</td>\n",
       "      <td>5.224000</td>\n",
       "    </tr>\n",
       "    <tr>\n",
       "      <th>75%</th>\n",
       "      <td>5.677000</td>\n",
       "      <td>6.312000</td>\n",
       "      <td>5.323750</td>\n",
       "    </tr>\n",
       "    <tr>\n",
       "      <th>max</th>\n",
       "      <td>6.053000</td>\n",
       "      <td>6.675000</td>\n",
       "      <td>5.541000</td>\n",
       "    </tr>\n",
       "    <tr>\n",
       "      <th rowspan=\"8\" valign=\"top\">perimeter</th>\n",
       "      <th>count</th>\n",
       "      <td>70.000000</td>\n",
       "      <td>70.000000</td>\n",
       "      <td>70.000000</td>\n",
       "    </tr>\n",
       "    <tr>\n",
       "      <th>mean</th>\n",
       "      <td>14.294286</td>\n",
       "      <td>16.135714</td>\n",
       "      <td>13.247857</td>\n",
       "    </tr>\n",
       "    <tr>\n",
       "      <th>std</th>\n",
       "      <td>0.576583</td>\n",
       "      <td>0.616995</td>\n",
       "      <td>0.340196</td>\n",
       "    </tr>\n",
       "    <tr>\n",
       "      <th>min</th>\n",
       "      <td>12.630000</td>\n",
       "      <td>14.660000</td>\n",
       "      <td>12.410000</td>\n",
       "    </tr>\n",
       "    <tr>\n",
       "      <th>25%</th>\n",
       "      <td>13.960000</td>\n",
       "      <td>15.737500</td>\n",
       "      <td>13.002500</td>\n",
       "    </tr>\n",
       "    <tr>\n",
       "      <th>50%</th>\n",
       "      <td>14.320000</td>\n",
       "      <td>16.210000</td>\n",
       "      <td>13.250000</td>\n",
       "    </tr>\n",
       "    <tr>\n",
       "      <th>75%</th>\n",
       "      <td>14.732500</td>\n",
       "      <td>16.557500</td>\n",
       "      <td>13.470000</td>\n",
       "    </tr>\n",
       "    <tr>\n",
       "      <th>max</th>\n",
       "      <td>15.460000</td>\n",
       "      <td>17.250000</td>\n",
       "      <td>13.950000</td>\n",
       "    </tr>\n",
       "    <tr>\n",
       "      <th rowspan=\"8\" valign=\"top\">width</th>\n",
       "      <th>count</th>\n",
       "      <td>70.000000</td>\n",
       "      <td>70.000000</td>\n",
       "      <td>70.000000</td>\n",
       "    </tr>\n",
       "    <tr>\n",
       "      <th>mean</th>\n",
       "      <td>3.244629</td>\n",
       "      <td>3.677414</td>\n",
       "      <td>2.853771</td>\n",
       "    </tr>\n",
       "    <tr>\n",
       "      <th>std</th>\n",
       "      <td>0.177616</td>\n",
       "      <td>0.185539</td>\n",
       "      <td>0.147516</td>\n",
       "    </tr>\n",
       "    <tr>\n",
       "      <th>min</th>\n",
       "      <td>2.850000</td>\n",
       "      <td>3.231000</td>\n",
       "      <td>2.630000</td>\n",
       "    </tr>\n",
       "    <tr>\n",
       "      <th>25%</th>\n",
       "      <td>3.134250</td>\n",
       "      <td>3.554250</td>\n",
       "      <td>2.725500</td>\n",
       "    </tr>\n",
       "    <tr>\n",
       "      <th>50%</th>\n",
       "      <td>3.243500</td>\n",
       "      <td>3.693500</td>\n",
       "      <td>2.834500</td>\n",
       "    </tr>\n",
       "    <tr>\n",
       "      <th>75%</th>\n",
       "      <td>3.378500</td>\n",
       "      <td>3.804750</td>\n",
       "      <td>2.967000</td>\n",
       "    </tr>\n",
       "    <tr>\n",
       "      <th>max</th>\n",
       "      <td>3.683000</td>\n",
       "      <td>4.033000</td>\n",
       "      <td>3.232000</td>\n",
       "    </tr>\n",
       "  </tbody>\n",
       "</table>\n",
       "</div>"
      ],
      "text/plain": [
       "species                  1          2          3\n",
       "area      count  70.000000  70.000000  70.000000\n",
       "          mean   14.334429  18.334286  11.873857\n",
       "          std     1.215704   1.439496   0.723004\n",
       "          min    11.230000  15.380000  10.590000\n",
       "          25%    13.750000  17.330000  11.262500\n",
       "          50%    14.355000  18.720000  11.835000\n",
       "          75%    15.045000  19.137500  12.425000\n",
       "          max    17.080000  21.180000  13.370000\n",
       "asym      count  70.000000  70.000000  70.000000\n",
       "          mean    2.667403   3.644800   4.788400\n",
       "          std     1.173901   1.181868   1.336465\n",
       "          min     0.765100   1.472000   1.661000\n",
       "          25%     1.826500   2.845500   4.048750\n",
       "          50%     2.545500   3.609500   4.839000\n",
       "          75%     3.301000   4.436000   5.467250\n",
       "          max     6.685000   6.682000   8.456000\n",
       "compact   count  70.000000  70.000000  70.000000\n",
       "          mean    0.880070   0.883517   0.849409\n",
       "          std     0.016191   0.015500   0.021760\n",
       "          min     0.839200   0.845200   0.808100\n",
       "          25%     0.868850   0.872525   0.834000\n",
       "          50%     0.880500   0.882600   0.849350\n",
       "          75%     0.890400   0.898225   0.861825\n",
       "          max     0.918300   0.910800   0.897700\n",
       "groove    count  70.000000  70.000000  70.000000\n",
       "          mean    5.087214   6.020600   5.116400\n",
       "          std     0.263699   0.253934   0.162068\n",
       "          min     4.519000   5.144000   4.745000\n",
       "          25%     4.924500   5.877500   5.002000\n",
       "          50%     5.094000   5.981500   5.091500\n",
       "          75%     5.223500   6.187750   5.228500\n",
       "          max     5.877000   6.550000   5.491000\n",
       "length    count  70.000000  70.000000  70.000000\n",
       "          mean    5.508057   6.148029   5.229514\n",
       "          std     0.231508   0.268191   0.138015\n",
       "          min     4.902000   5.363000   4.899000\n",
       "          25%     5.384500   5.979250   5.136250\n",
       "          50%     5.534000   6.148500   5.224000\n",
       "          75%     5.677000   6.312000   5.323750\n",
       "          max     6.053000   6.675000   5.541000\n",
       "perimeter count  70.000000  70.000000  70.000000\n",
       "          mean   14.294286  16.135714  13.247857\n",
       "          std     0.576583   0.616995   0.340196\n",
       "          min    12.630000  14.660000  12.410000\n",
       "          25%    13.960000  15.737500  13.002500\n",
       "          50%    14.320000  16.210000  13.250000\n",
       "          75%    14.732500  16.557500  13.470000\n",
       "          max    15.460000  17.250000  13.950000\n",
       "width     count  70.000000  70.000000  70.000000\n",
       "          mean    3.244629   3.677414   2.853771\n",
       "          std     0.177616   0.185539   0.147516\n",
       "          min     2.850000   3.231000   2.630000\n",
       "          25%     3.134250   3.554250   2.725500\n",
       "          50%     3.243500   3.693500   2.834500\n",
       "          75%     3.378500   3.804750   2.967000\n",
       "          max     3.683000   4.033000   3.232000"
      ]
     },
     "execution_count": 5,
     "metadata": {},
     "output_type": "execute_result"
    }
   ],
   "source": [
    "seed_data.groupby(['species']).describe().T"
   ]
  },
  {
   "cell_type": "markdown",
   "metadata": {},
   "source": [
    "##### Step B"
   ]
  },
  {
   "cell_type": "code",
   "execution_count": 6,
   "metadata": {},
   "outputs": [
    {
     "data": {
      "text/plain": [
       "array([0, 0, 0, 0, 0, 0, 0, 0, 0, 0, 0, 0, 0, 0, 0, 0, 0, 0, 0, 0, 0, 0, 0,\n",
       "       0, 0, 0, 0, 0, 0, 0, 0, 0, 0, 0, 0, 0, 0, 0, 0, 0, 0, 0, 0, 0, 0, 0,\n",
       "       0, 0, 0, 0, 0, 0, 0, 0, 0, 0, 0, 0, 0, 0, 0, 0, 0, 0, 0, 0, 0, 0, 0,\n",
       "       0, 1, 1, 1, 1, 1, 1, 1, 1, 1, 1, 1, 1, 1, 1, 1, 1, 1, 1, 1, 1, 1, 1,\n",
       "       1, 1, 1, 1, 1, 1, 1, 1, 1, 1, 1, 1, 1, 1, 1, 1, 1, 1, 1, 1, 1, 1, 1,\n",
       "       1, 1, 1, 1, 1, 1, 1, 1, 1, 1, 1, 1, 1, 1, 1, 1, 1, 1, 1, 1, 1, 1, 1,\n",
       "       1, 1, 2, 2, 2, 2, 2, 2, 2, 2, 2, 2, 2, 2, 2, 2, 2, 2, 2, 2, 2, 2, 2,\n",
       "       2, 2, 2, 2, 2, 2, 2, 2, 2, 2, 2, 2, 2, 2, 2, 2, 2, 2, 2, 2, 2, 2, 2,\n",
       "       2, 2, 2, 2, 2, 2, 2, 2, 2, 2, 2, 2, 2, 2, 2, 2, 2, 2, 2, 2, 2, 2, 2,\n",
       "       2, 2, 2], dtype=int64)"
      ]
     },
     "execution_count": 6,
     "metadata": {},
     "output_type": "execute_result"
    }
   ],
   "source": [
    "spec_cat = pd.factorize(seed_data['species'])\n",
    "Y_seed = spec_cat[0]\n",
    "Y_seed"
   ]
  },
  {
   "cell_type": "code",
   "execution_count": 7,
   "metadata": {},
   "outputs": [
    {
     "data": {
      "text/plain": [
       "array([[  1.42097769e-01,   2.15462437e-01,   6.06017918e-05,\n",
       "          3.04218199e-01,   1.41701823e-01,  -9.86151745e-01,\n",
       "         -3.83577423e-01],\n",
       "       [  1.11880257e-02,   8.22375713e-03,   4.28515270e-01,\n",
       "         -1.68624664e-01,   1.97432229e-01,  -1.78816620e+00,\n",
       "         -9.22013487e-01],\n",
       "       [ -1.92066576e-01,  -3.60200562e-01,   1.44238325e+00,\n",
       "         -7.63637453e-01,   2.08047544e-01,  -6.67479334e-01,\n",
       "         -1.18919199e+00],\n",
       "       [ -3.47091272e-01,  -4.75333162e-01,   1.03938133e+00,\n",
       "         -6.88978054e-01,   3.19508356e-01,  -9.60817955e-01,\n",
       "         -1.22998260e+00],\n",
       "       [  4.45257175e-01,   3.30595037e-01,   1.37450924e+00,\n",
       "          6.66655647e-02,   8.05159035e-01,  -1.56349549e+00,\n",
       "         -4.75356297e-01]])"
      ]
     },
     "execution_count": 7,
     "metadata": {},
     "output_type": "execute_result"
    }
   ],
   "source": [
    "X_seed = seed_data.drop('species', axis=1)\n",
    "X_std_seed = StandardScaler().fit_transform(X_seed)\n",
    "X_std_seed[:5,:]"
   ]
  },
  {
   "cell_type": "code",
   "execution_count": 8,
   "metadata": {},
   "outputs": [
    {
     "data": {
      "text/plain": [
       "array([2, 2, 2, 2, 2, 2, 2, 2, 0, 2, 2, 2, 2, 2, 2, 2, 2, 2, 2, 1, 2, 2, 2,\n",
       "       2, 2, 2, 2, 2, 2, 2, 2, 2, 2, 2, 2, 2, 2, 0, 2, 2, 2, 2, 2, 2, 2, 2,\n",
       "       2, 2, 2, 2, 2, 2, 2, 2, 2, 2, 2, 2, 2, 1, 1, 1, 2, 1, 2, 2, 2, 2, 2,\n",
       "       1, 0, 0, 0, 0, 0, 0, 0, 0, 0, 0, 0, 0, 0, 0, 0, 0, 0, 0, 0, 0, 0, 0,\n",
       "       0, 0, 0, 0, 0, 0, 0, 0, 0, 0, 0, 0, 0, 0, 0, 0, 0, 0, 0, 0, 0, 0, 0,\n",
       "       0, 0, 0, 0, 0, 0, 0, 0, 0, 2, 0, 0, 0, 0, 0, 0, 0, 2, 0, 0, 2, 0, 2,\n",
       "       2, 0, 1, 1, 1, 1, 1, 1, 1, 1, 1, 1, 1, 1, 1, 1, 1, 1, 1, 1, 1, 1, 1,\n",
       "       1, 1, 1, 1, 2, 1, 1, 1, 1, 1, 1, 1, 1, 1, 1, 1, 1, 1, 1, 1, 1, 1, 1,\n",
       "       1, 1, 1, 1, 1, 1, 1, 1, 1, 1, 1, 1, 1, 2, 1, 2, 1, 2, 1, 1, 1, 1, 1,\n",
       "       1, 1, 1])"
      ]
     },
     "execution_count": 8,
     "metadata": {},
     "output_type": "execute_result"
    }
   ],
   "source": [
    "kmeans = KMeans (n_clusters=3, random_state = 1)\n",
    "kmeans.fit (X_std_seed)\n",
    "Y_model = kmeans.predict (X_std_seed)\n",
    "Y_model"
   ]
  },
  {
   "cell_type": "code",
   "execution_count": 9,
   "metadata": {},
   "outputs": [
    {
     "data": {
      "text/plain": [
       "array([2, 2, 2, 2, 2, 2, 2, 2, 2, 2, 2, 2, 2, 2, 2, 2, 2, 2, 2, 2, 2, 2, 2,\n",
       "       2, 2, 2, 2, 2, 2, 2, 2, 2, 2, 2, 2, 2, 2, 2, 2, 2, 2, 2, 2, 2, 2, 2,\n",
       "       2, 2, 2, 2, 2, 2, 2, 2, 2, 2, 2, 2, 2, 2, 2, 2, 2, 2, 2, 2, 2, 2, 2,\n",
       "       2, 0, 0, 0, 0, 0, 0, 0, 0, 0, 0, 0, 0, 0, 0, 0, 0, 0, 0, 0, 0, 0, 0,\n",
       "       0, 0, 0, 0, 0, 0, 0, 0, 0, 0, 0, 0, 0, 0, 0, 0, 0, 0, 0, 0, 0, 0, 0,\n",
       "       0, 0, 0, 0, 0, 0, 0, 0, 0, 0, 0, 0, 0, 0, 0, 0, 0, 0, 0, 0, 0, 0, 0,\n",
       "       0, 0, 1, 1, 1, 1, 1, 1, 1, 1, 1, 1, 1, 1, 1, 1, 1, 1, 1, 1, 1, 1, 1,\n",
       "       1, 1, 1, 1, 1, 1, 1, 1, 1, 1, 1, 1, 1, 1, 1, 1, 1, 1, 1, 1, 1, 1, 1,\n",
       "       1, 1, 1, 1, 1, 1, 1, 1, 1, 1, 1, 1, 1, 1, 1, 1, 1, 1, 1, 1, 1, 1, 1,\n",
       "       1, 1, 1])"
      ]
     },
     "execution_count": 9,
     "metadata": {},
     "output_type": "execute_result"
    }
   ],
   "source": [
    "Y_test = np.choose (Y_seed, (2,0,1)).astype (int)\n",
    "Y_test"
   ]
  },
  {
   "cell_type": "code",
   "execution_count": 10,
   "metadata": {},
   "outputs": [
    {
     "data": {
      "text/plain": [
       "0.919047619047619"
      ]
     },
     "execution_count": 10,
     "metadata": {},
     "output_type": "execute_result"
    }
   ],
   "source": [
    "acc_score = accuracy_score (Y_test, Y_model)\n",
    "acc_score"
   ]
  },
  {
   "cell_type": "code",
   "execution_count": 11,
   "metadata": {},
   "outputs": [
    {
     "data": {
      "image/png": "[encoded data removed]",
      "text/plain": [
       "<matplotlib.figure.Figure at 0x2032097bcf8>"
      ]
     },
     "metadata": {},
     "output_type": "display_data"
    }
   ],
   "source": [
    "plt.scatter(X_std_seed[:, 0], X_std_seed[:, 1], c = Y_model, s = 50, cmap='viridis')\n",
    "centers = kmeans.cluster_centers_\n",
    "plt.scatter(centers[:, 0], centers[:, 1], c='black', s=100, alpha=0.5);"
   ]
  },
  {
   "cell_type": "code",
   "execution_count": 12,
   "metadata": {},
   "outputs": [
    {
     "name": "stdout",
     "output_type": "stream",
     "text": [
      "[[65  0  5]\n",
      " [ 0 66  4]\n",
      " [ 2  6 62]]\n"
     ]
    },
    {
     "data": {
      "text/plain": [
       "<matplotlib.text.Text at 0x2032129eb38>"
      ]
     },
     "execution_count": 12,
     "metadata": {},
     "output_type": "execute_result"
    },
    {
     "data": {
      "image/png": "[encoded data removed]",
      "text/plain": [
       "<matplotlib.figure.Figure at 0x203209cfe48>"
      ]
     },
     "metadata": {},
     "output_type": "display_data"
    }
   ],
   "source": [
    "# Class labels: 2=Kama, 0=Rosa, 1=Canadian\n",
    "mat = confusion_matrix (Y_test, Y_model)\n",
    "print (mat)\n",
    "sns.heatmap (mat, square=True, annot=True, cbar=False)\n",
    "plt.xlabel('Predicted Values')\n",
    "plt.ylabel('Actual Values')"
   ]
  },
  {
   "cell_type": "markdown",
   "metadata": {},
   "source": [
    "##### Step D"
   ]
  },
  {
   "cell_type": "code",
   "execution_count": 13,
   "metadata": {
    "collapsed": true
   },
   "outputs": [],
   "source": [
    "Y_seed = seed_data ['species']\n",
    "X_seed = seed_data.drop (['species'], axis=1)"
   ]
  },
  {
   "cell_type": "code",
   "execution_count": 14,
   "metadata": {
    "collapsed": true
   },
   "outputs": [],
   "source": [
    "X_train, X_test, Y_train, Y_test = train_test_split (\n",
    " X_seed, Y_seed, random_state = 33, test_size = 0.33)"
   ]
  },
  {
   "cell_type": "code",
   "execution_count": 15,
   "metadata": {},
   "outputs": [
    {
     "name": "stdout",
     "output_type": "stream",
     "text": [
      "Best parameters set:\n",
      "\tmax_depth: 5\n",
      "\tmin_samples_leaf: 1\n",
      "\tmin_samples_split: 2\n"
     ]
    }
   ],
   "source": [
    "max_depth = [5, 6, 7, 8, 9, 10]\n",
    "min_split = [2, 3, 4]\n",
    "min_leaf = [1, 2, 3]\n",
    "dtc = DecisionTreeClassifier (criterion = 'entropy', random_state = 33)\n",
    "params = {'max_depth': max_depth,\n",
    "          'min_samples_split': min_split,\n",
    "          'min_samples_leaf': min_leaf}\n",
    "search = GridSearchCV (dtc, params, scoring='accuracy')\n",
    "search.fit (X_train, Y_train)\n",
    "print ('Best parameters set:')\n",
    "best_params = search.best_estimator_.get_params()\n",
    "for param_name in sorted(params.keys()):\n",
    "    print ('\\t%s: %r' % (param_name,best_params[param_name]))"
   ]
  },
  {
   "cell_type": "code",
   "execution_count": 16,
   "metadata": {
    "collapsed": true
   },
   "outputs": [],
   "source": [
    "X_train, X_test, Y_train, Y_test = train_test_split (\n",
    " X_seed, Y_seed, random_state = 5, test_size = 0.33)"
   ]
  },
  {
   "cell_type": "code",
   "execution_count": 17,
   "metadata": {},
   "outputs": [
    {
     "name": "stdout",
     "output_type": "stream",
     "text": [
      "Best parameters set:\n",
      "\tmax_depth: 5\n",
      "\tmin_samples_leaf: 1\n",
      "\tmin_samples_split: 4\n"
     ]
    }
   ],
   "source": [
    "max_depth = [5, 6, 7, 8, 9, 10]\n",
    "min_split = [2, 3, 4]\n",
    "min_leaf = [1, 2, 3]\n",
    "dtc = DecisionTreeClassifier (criterion = 'entropy', random_state = 5)\n",
    "params = {'max_depth': max_depth,\n",
    "          'min_samples_split': min_split,\n",
    "          'min_samples_leaf': min_leaf}\n",
    "search = GridSearchCV (dtc, params, scoring='accuracy')\n",
    "search.fit (X_train, Y_train)\n",
    "print ('Best parameters set:')\n",
    "best_params = search.best_estimator_.get_params()\n",
    "for param_name in sorted(params.keys()):\n",
    "    print ('\\t%s: %r' % (param_name,best_params[param_name]))"
   ]
  },
  {
   "cell_type": "code",
   "execution_count": 18,
   "metadata": {},
   "outputs": [
    {
     "name": "stdout",
     "output_type": "stream",
     "text": [
      "Best parameters set:\n",
      "\tmax_depth: 6\n",
      "\tmin_samples_leaf: 1\n",
      "\tmin_samples_split: 3\n"
     ]
    }
   ],
   "source": [
    "X_train, X_test, Y_train, Y_test = train_test_split (\n",
    " X_seed, Y_seed, random_state = 7, test_size = 0.33)\n",
    "max_depth = [5, 6, 7, 8, 9, 10]\n",
    "min_split = [2, 3, 4]\n",
    "min_leaf = [1, 2, 3]\n",
    "dtc = DecisionTreeClassifier (criterion = 'entropy', random_state = 7)\n",
    "params = {'max_depth': max_depth,\n",
    "          'min_samples_split': min_split,\n",
    "          'min_samples_leaf': min_leaf}\n",
    "search = GridSearchCV (dtc, params, scoring='accuracy')\n",
    "search.fit (X_train, Y_train)\n",
    "print ('Best parameters set:')\n",
    "best_params = search.best_estimator_.get_params()\n",
    "for param_name in sorted(params.keys()):\n",
    "    print ('\\t%s: %r' % (param_name,best_params[param_name]))"
   ]
  },
  {
   "cell_type": "code",
   "execution_count": 19,
   "metadata": {},
   "outputs": [
    {
     "name": "stdout",
     "output_type": "stream",
     "text": [
      "Best parameters set:\n",
      "\tmax_depth: 5\n",
      "\tmin_samples_leaf: 1\n",
      "\tmin_samples_split: 3\n"
     ]
    }
   ],
   "source": [
    "X_train, X_test, Y_train, Y_test = train_test_split (\n",
    " X_seed, Y_seed, random_state = 9, test_size = 0.33)\n",
    "max_depth = [5, 6, 7, 8, 9, 10]\n",
    "min_split = [2, 3, 4]\n",
    "min_leaf = [1, 2, 3]\n",
    "dtc = DecisionTreeClassifier (criterion = 'entropy', random_state = 9)\n",
    "params = {'max_depth': max_depth,\n",
    "          'min_samples_split': min_split,\n",
    "          'min_samples_leaf': min_leaf}\n",
    "search = GridSearchCV (dtc, params, scoring='accuracy')\n",
    "search.fit (X_train, Y_train)\n",
    "print ('Best parameters set:')\n",
    "best_params = search.best_estimator_.get_params()\n",
    "for param_name in sorted(params.keys()):\n",
    "    print ('\\t%s: %r' % (param_name,best_params[param_name]))"
   ]
  },
  {
   "cell_type": "code",
   "execution_count": 20,
   "metadata": {},
   "outputs": [
    {
     "name": "stdout",
     "output_type": "stream",
     "text": [
      "Best parameters set:\n",
      "\tmax_depth: 5\n",
      "\tmin_samples_leaf: 3\n",
      "\tmin_samples_split: 2\n"
     ]
    }
   ],
   "source": [
    "X_train, X_test, Y_train, Y_test = train_test_split (\n",
    " X_seed, Y_seed, random_state = 15, test_size = 0.33)\n",
    "max_depth = [5, 6, 7, 8, 9, 10]\n",
    "min_split = [2, 3, 4]\n",
    "min_leaf = [1, 2, 3]\n",
    "dtc = DecisionTreeClassifier (criterion = 'entropy', random_state = 15)\n",
    "params = {'max_depth': max_depth,\n",
    "          'min_samples_split': min_split,\n",
    "          'min_samples_leaf': min_leaf}\n",
    "search = GridSearchCV (dtc, params, scoring='accuracy')\n",
    "search.fit (X_train, Y_train)\n",
    "print ('Best parameters set:')\n",
    "best_params = search.best_estimator_.get_params()\n",
    "for param_name in sorted(params.keys()):\n",
    "    print ('\\t%s: %r' % (param_name,best_params[param_name]))"
   ]
  },
  {
   "cell_type": "code",
   "execution_count": 21,
   "metadata": {
    "collapsed": true
   },
   "outputs": [],
   "source": [
    "X_train, X_test, Y_train, Y_test = train_test_split (\n",
    "X_seed, Y_seed, random_state = 33, test_size = 0.33)"
   ]
  },
  {
   "cell_type": "code",
   "execution_count": 22,
   "metadata": {
    "collapsed": true
   },
   "outputs": [],
   "source": [
    "dtc = DecisionTreeClassifier (criterion = 'entropy',\n",
    "random_state = 33, max_depth = 5, \n",
    "min_samples_split = 2, min_samples_leaf = 1)\n",
    "dtc.fit (X_train, Y_train) \n",
    "Y_model = dtc.predict(X_test)"
   ]
  },
  {
   "cell_type": "code",
   "execution_count": 23,
   "metadata": {},
   "outputs": [
    {
     "data": {
      "text/plain": [
       "0.95714285714285718"
      ]
     },
     "execution_count": 23,
     "metadata": {},
     "output_type": "execute_result"
    }
   ],
   "source": [
    "acc_score = accuracy_score (Y_test, Y_model)\n",
    "acc_score"
   ]
  },
  {
   "cell_type": "code",
   "execution_count": 24,
   "metadata": {},
   "outputs": [
    {
     "name": "stdout",
     "output_type": "stream",
     "text": [
      "Classification Report\n",
      "             precision    recall  f1-score   support\n",
      "\n",
      "          1       0.89      0.94      0.92        18\n",
      "          2       0.96      1.00      0.98        24\n",
      "          3       1.00      0.93      0.96        28\n",
      "\n",
      "avg / total       0.96      0.96      0.96        70\n",
      "\n"
     ]
    }
   ],
   "source": [
    "print ('Classification Report')\n",
    "print (classification_report (Y_test, Y_model))"
   ]
  },
  {
   "cell_type": "code",
   "execution_count": 25,
   "metadata": {},
   "outputs": [
    {
     "name": "stdout",
     "output_type": "stream",
     "text": [
      "[[17  1  0]\n",
      " [ 0 24  0]\n",
      " [ 2  0 26]]\n"
     ]
    },
    {
     "data": {
      "text/plain": [
       "<matplotlib.text.Text at 0x2032136b7f0>"
      ]
     },
     "execution_count": 25,
     "metadata": {},
     "output_type": "execute_result"
    },
    {
     "data": {
      "image/png": "[encoded data removed]",
      "text/plain": [
       "<matplotlib.figure.Figure at 0x20320ad8d68>"
      ]
     },
     "metadata": {},
     "output_type": "display_data"
    }
   ],
   "source": [
    "# Class labels: 2=Kama, 0=Rosa, 1=Canadian\n",
    "mat = confusion_matrix (Y_test, Y_model)\n",
    "print (mat)\n",
    "sns.heatmap (mat,square=True,annot=True,cbar=False)\n",
    "plt.xlabel ('Predicted Values')\n",
    "plt.ylabel ('Actual Values')"
   ]
  },
  {
   "cell_type": "markdown",
   "metadata": {},
   "source": [
    "### Kama(0): C1 = 18, Rosa(1): C2 = 24, Canadian(2): C3 = 28\n",
    "### TC1 =17 , TC2 = 24, TC3 = 26\n",
    "### FC1C2 - NumberOfRosa ClassifiedAsKama = 0\n",
    "### FC1C3 - NumberOfCanadian ClassifiedAsKama = 2\n",
    "### FC2C1 - NumberOfKama ClassifiedAsRosa = 1\n",
    "### FC2C3 - NumberOfCanadian ClassifiedAsRosa = 0\n",
    "### FC3C1 - NumberOfKama ClassifiedAsCanadian = 0\n",
    "### FC3C2 - NumberOfRosa ClassifiedAsCanadian = 0\n",
    "### TC1R = 17 / 18, TC2R = 24 / 24, TC3R = 26 / 28\n",
    "### ACC = 67 / 70"
   ]
  },
  {
   "cell_type": "code",
   "execution_count": 26,
   "metadata": {},
   "outputs": [],
   "source": [
    "X_cols = ['area','perimeter','compact','length','width','asym','groove']\n",
    "# 1=Kama, 2=Rosa, 3=Canadian\n",
    "with open (\"seed.dot\", 'w') as f:\n",
    "    f = export_graphviz (dtc, out_file=f,\n",
    "    feature_names=list(X_cols),\n",
    "    class_names=('Kama','Rosa','Canadian'),\n",
    "    filled=True,rounded=True,special_characters=True)"
   ]
  },
  {
   "cell_type": "markdown",
   "metadata": {},
   "source": [
    "##### Step E"
   ]
  },
  {
   "cell_type": "code",
   "execution_count": 27,
   "metadata": {},
   "outputs": [
    {
     "name": "stdout",
     "output_type": "stream",
     "text": [
      "Best parameters set:\n",
      "\tmax_depth: 5\n",
      "\tmin_samples_leaf: 1\n",
      "\tmin_samples_split: 2\n"
     ]
    }
   ],
   "source": [
    "max_depth = [5, 6, 7, 8, 9, 10]\n",
    "min_split = [2, 3, 4] \n",
    "min_leaf = [1, 2, 3]\n",
    "rfc = RandomForestClassifier (n_estimators = 50, \n",
    "criterion = 'entropy', random_state = 11)\n",
    "params = {'max_depth': max_depth,'min_samples_split': min_split,'min_samples_leaf': min_leaf}\n",
    "search = GridSearchCV (rfc, params, scoring='accuracy')\n",
    "search.fit (X_seed, Y_seed)\n",
    "print ('Best parameters set:') \n",
    "best_params = search.best_estimator_.get_params()\n",
    "for param_name in sorted(params.keys()):\n",
    "    print ('\\t%s: %r' % (param_name, best_params[param_name]))"
   ]
  },
  {
   "cell_type": "code",
   "execution_count": 28,
   "metadata": {
    "collapsed": true
   },
   "outputs": [],
   "source": [
    "rfc = RandomForestClassifier (criterion = 'entropy',\n",
    "n_estimators = 50, random_state = 11, max_depth = 5,\n",
    "min_samples_split = 2, min_samples_leaf = 1)\n",
    "rfc.fit (X_seed, Y_seed) \n",
    "Y_model = rfc.predict (X_seed)"
   ]
  },
  {
   "cell_type": "code",
   "execution_count": 29,
   "metadata": {},
   "outputs": [
    {
     "data": {
      "text/plain": [
       "0.99523809523809526"
      ]
     },
     "execution_count": 29,
     "metadata": {},
     "output_type": "execute_result"
    }
   ],
   "source": [
    "acc_score = accuracy_score (Y_seed, Y_model)\n",
    "acc_score"
   ]
  },
  {
   "cell_type": "code",
   "execution_count": 30,
   "metadata": {},
   "outputs": [
    {
     "name": "stdout",
     "output_type": "stream",
     "text": [
      "Classification Report\n",
      "             precision    recall  f1-score   support\n",
      "\n",
      "          1       1.00      0.99      0.99        70\n",
      "          2       1.00      1.00      1.00        70\n",
      "          3       0.99      1.00      0.99        70\n",
      "\n",
      "avg / total       1.00      1.00      1.00       210\n",
      "\n"
     ]
    }
   ],
   "source": [
    "print ('Classification Report')\n",
    "print (classification_report (Y_seed, Y_model))"
   ]
  },
  {
   "cell_type": "code",
   "execution_count": 31,
   "metadata": {},
   "outputs": [
    {
     "name": "stdout",
     "output_type": "stream",
     "text": [
      "[[69  0  1]\n",
      " [ 0 70  0]\n",
      " [ 0  0 70]]\n"
     ]
    },
    {
     "data": {
      "text/plain": [
       "<matplotlib.text.Text at 0x203213fcd30>"
      ]
     },
     "execution_count": 31,
     "metadata": {},
     "output_type": "execute_result"
    },
    {
     "data": {
      "image/png": "[encoded data removed]",
      "text/plain": [
       "<matplotlib.figure.Figure at 0x203213e9518>"
      ]
     },
     "metadata": {},
     "output_type": "display_data"
    }
   ],
   "source": [
    "# Class labels: 2=Kama, 0=Rosa, 1=Canadian\n",
    "mat = confusion_matrix (Y_seed, Y_model)\n",
    "print (mat)\n",
    "sns.heatmap (mat,square=True,annot=True,cbar=False)\n",
    "plt.xlabel ('Predicted Values')\n",
    "plt.ylabel ('Actual Values')"
   ]
  },
  {
   "cell_type": "markdown",
   "metadata": {},
   "source": [
    "####Kama(0): C1 = 70, Rosa(1): C2 = 70, Canadian(2): C3 = 70\n",
    "####TC1 = 69, TC2 = 70, TC3 = 70\n",
    "####FC1C2 - NumberOfRosa ClassifiedAsKama = 0\n",
    "####FC1C3 - NumberOfCanadian ClassifiedAsKama = 0\n",
    "####FC2C1 - NumberOfKama ClassifiedAsRosa = 0\n",
    "####FC2C3 - NumberOfCanadian ClassifiedAsRosa = 0\n",
    "####FC3C1 - NumberOfKama ClassifiedAsCanadian = 1\n",
    "####FC3C2 - NumberOfRosa ClassifiedAsCanadian = 0\n",
    "####TC1R = 69 / 70, TC2R = 70 / 70, TC3R = 70 / 70\n",
    "####ACC = 69 / 70"
   ]
  },
  {
   "cell_type": "code",
   "execution_count": null,
   "metadata": {
    "collapsed": true
   },
   "outputs": [],
   "source": []
  }
 ],
 "metadata": {
  "kernelspec": {
   "display_name": "Python 3",
   "language": "python",
   "name": "python3"
  },
  "language_info": {
   "codemirror_mode": {
    "name": "ipython",
    "version": 3
   },
   "file_extension": ".py",
   "mimetype": "text/x-python",
   "name": "python",
   "nbconvert_exporter": "python",
   "pygments_lexer": "ipython3",
   "version": "3.6.1"
  }
 },
 "nbformat": 4,
 "nbformat_minor": 2
}
